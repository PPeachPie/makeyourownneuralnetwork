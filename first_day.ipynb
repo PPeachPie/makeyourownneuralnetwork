{
  "nbformat": 4,
  "nbformat_minor": 0,
  "metadata": {
    "colab": {
      "name": "first_day.ipynb",
      "provenance": [],
      "authorship_tag": "ABX9TyPQ6Nw93UcbyOT0hCnzEB6X",
      "include_colab_link": true
    },
    "kernelspec": {
      "name": "python3",
      "display_name": "Python 3"
    }
  },
  "cells": [
    {
      "cell_type": "markdown",
      "metadata": {
        "id": "view-in-github",
        "colab_type": "text"
      },
      "source": [
        "<a href=\"https://colab.research.google.com/github/PPeachPie/makeyourownneuralnetwork/blob/master/first_day.ipynb\" target=\"_parent\"><img src=\"https://colab.research.google.com/assets/colab-badge.svg\" alt=\"Open In Colab\"/></a>"
      ]
    },
    {
      "cell_type": "code",
      "metadata": {
        "id": "L5jLKGgjX-CE"
      },
      "source": [
        "import random\r\n",
        "import nltk"
      ],
      "execution_count": 71,
      "outputs": []
    },
    {
      "cell_type": "code",
      "metadata": {
        "id": "ONxz-pghYrdg"
      },
      "source": [
        "BOT_CONFIG = {\r\n",
        "    'intents' : {\r\n",
        "        'hello' : {\r\n",
        "            'examples': ['hello', 'good morning'],\r\n",
        "            'responses' : ['hello human', 'hey!', 'hello']\r\n",
        "        },\r\n",
        "        'bye' : {\r\n",
        "            'examples': ['bye', 'good bye'],\r\n",
        "            'responses' : ['oh... good bye', 'see you!']\r\n",
        "        }\r\n",
        "    },\r\n",
        "    'failure_phrases' : [\r\n",
        "                    'i dont understand, try again', \r\n",
        "                    'i just learning, dont know how to react'\r\n",
        "  ]\r\n",
        "}\r\n"
      ],
      "execution_count": 72,
      "outputs": []
    },
    {
      "cell_type": "code",
      "metadata": {
        "colab": {
          "base_uri": "https://localhost:8080/"
        },
        "id": "0bQERrXwefSq",
        "outputId": "7342c4be-3619-400d-8f9c-c110472e3a8a"
      },
      "source": [
        "d = {'a':1, 'b':2}\r\n",
        "for key in d.items():\r\n",
        "  print(key)"
      ],
      "execution_count": 73,
      "outputs": [
        {
          "output_type": "stream",
          "text": [
            "('a', 1)\n",
            "('b', 2)\n"
          ],
          "name": "stdout"
        }
      ]
    },
    {
      "cell_type": "code",
      "metadata": {
        "id": "2cNAAJfIOWza"
      },
      "source": [
        "def bot(replica):\r\n",
        "  #NLU\r\n",
        "  intent = classify_intent(replica)\r\n",
        "\r\n",
        "  #answer\r\n",
        "\r\n",
        "  #regulations\r\n",
        "  if intent:\r\n",
        "    answer = get_answer_by_intent(intent)\r\n",
        "    if answer:\r\n",
        "      return answer\r\n",
        "\r\n",
        "  #generative model\r\n",
        "  answer = generate_answer(replica)\r\n",
        "  if answer:\r\n",
        "    return answer\r\n",
        "  \r\n",
        "  #plug\r\n",
        "  answer = get_stub()\r\n",
        "  \r\n",
        "  return answer"
      ],
      "execution_count": 74,
      "outputs": []
    },
    {
      "cell_type": "code",
      "metadata": {
        "id": "97U2BIkqWown"
      },
      "source": [
        "\r\n",
        "def classify_intent(replica):\r\n",
        "  replica = clear_text(replica)\r\n",
        "\r\n",
        "  for intent, intent_data in BOT_CONFIG['intents'].items():\r\n",
        "    for example in intent_data['examples']:\r\n",
        "      example = clear_text(example)\r\n",
        "      distance = nltk.edit_distance(replica, example)\r\n",
        "      if distance / len(example)< 0.3:\r\n",
        "        return intent\r\n"
      ],
      "execution_count": 75,
      "outputs": []
    },
    {
      "cell_type": "code",
      "metadata": {
        "id": "SrQsYop0geEn"
      },
      "source": [
        "def clear_text(text):\r\n",
        "  text = text.lower()\r\n",
        "  text = ''.join([char for char in text if char in 'abcdefghijklmnopqrstuvwxyz '])\r\n",
        "  return text"
      ],
      "execution_count": 76,
      "outputs": []
    },
    {
      "cell_type": "code",
      "metadata": {
        "id": "IouctIu5WwP_"
      },
      "source": [
        "def get_answer_by_intent(intent):\r\n",
        "  if intent in BOT_CONFIG['intents']:\r\n",
        "    return random.choice(BOT_CONFIG['intents'][intent]['responses'])\r\n",
        "  return"
      ],
      "execution_count": 77,
      "outputs": []
    },
    {
      "cell_type": "code",
      "metadata": {
        "id": "-xWoq9JJW4UW"
      },
      "source": [
        "def generate_answer(replica):\r\n",
        "  return "
      ],
      "execution_count": 78,
      "outputs": []
    },
    {
      "cell_type": "code",
      "metadata": {
        "id": "FiUz6xJWXCq3"
      },
      "source": [
        "def get_stub():\r\n",
        "  failure_phrases = BOT_CONFIG['failure_phrases']\r\n",
        "  return random.choice(failure_phrases)"
      ],
      "execution_count": 79,
      "outputs": []
    },
    {
      "cell_type": "code",
      "metadata": {
        "colab": {
          "base_uri": "https://localhost:8080/",
          "height": 35
        },
        "id": "1RJ31W95PbBf",
        "outputId": "6a258a9a-7987-4154-8ac8-5584310227b5"
      },
      "source": [
        "bot('bye, bot')"
      ],
      "execution_count": 84,
      "outputs": [
        {
          "output_type": "execute_result",
          "data": {
            "application/vnd.google.colaboratory.intrinsic+json": {
              "type": "string"
            },
            "text/plain": [
              "'i just learning, dont know how to react'"
            ]
          },
          "metadata": {
            "tags": []
          },
          "execution_count": 84
        }
      ]
    },
    {
      "cell_type": "code",
      "metadata": {
        "id": "_UOPGRJmj99h"
      },
      "source": [
        ""
      ],
      "execution_count": 80,
      "outputs": []
    }
  ]
}